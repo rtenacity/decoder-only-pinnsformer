{
 "cells": [
  {
   "cell_type": "code",
   "execution_count": 10,
   "metadata": {},
   "outputs": [
    {
     "name": "stdout",
     "output_type": "stream",
     "text": [
      "['flow', 'flower', 'flight']\n"
     ]
    },
    {
     "data": {
      "text/plain": [
       "'fl'"
      ]
     },
     "execution_count": 10,
     "metadata": {},
     "output_type": "execute_result"
    }
   ],
   "source": [
    "strs =  [\"flower\",\"flow\",\"flight\"]\n",
    "\n",
    "strs = sorted(strs, key=len)\n",
    "print(strs)\n",
    "\n",
    "prefix = strs[0]\n",
    "\n",
    "for i in range(1, len(strs)):\n",
    "    while prefix not in strs[i]:\n",
    "        prefix = prefix[0:len(prefix)-1]\n",
    "        if not prefix:\n",
    "            break\n",
    "\n",
    "prefix"
   ]
  }
 ],
 "metadata": {
  "kernelspec": {
   "display_name": "Python 3",
   "language": "python",
   "name": "python3"
  },
  "language_info": {
   "codemirror_mode": {
    "name": "ipython",
    "version": 3
   },
   "file_extension": ".py",
   "mimetype": "text/x-python",
   "name": "python",
   "nbconvert_exporter": "python",
   "pygments_lexer": "ipython3",
   "version": "3.11.11"
  }
 },
 "nbformat": 4,
 "nbformat_minor": 2
}
