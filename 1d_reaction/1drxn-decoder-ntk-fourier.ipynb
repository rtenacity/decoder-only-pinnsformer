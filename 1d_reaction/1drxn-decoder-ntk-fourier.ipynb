{
 "cells": [
  {
   "cell_type": "code",
   "execution_count": 5,
   "metadata": {},
   "outputs": [],
   "source": [
    "import numpy as np\n",
    "import torch\n",
    "import torch.nn as nn\n",
    "import matplotlib.pyplot as plt\n",
    "import random\n",
    "from torch.optim import LBFGS, Adam\n",
    "from tqdm import tqdm\n",
    "import copy"
   ]
  },
  {
   "cell_type": "code",
   "execution_count": 6,
   "metadata": {},
   "outputs": [],
   "source": [
    "def get_data(x_range, y_range, x_num, y_num):\n",
    "    x = np.linspace(x_range[0], x_range[1], x_num)\n",
    "    t = np.linspace(y_range[0], y_range[1], y_num)\n",
    "\n",
    "    x_mesh, t_mesh = np.meshgrid(x,t)\n",
    "    data = np.concatenate((np.expand_dims(x_mesh, -1), np.expand_dims(t_mesh, -1)), axis=-1)\n",
    "    \n",
    "    b_left = data[0,:,:] # x = 0\n",
    "    b_right = data[-1,:,:] # x = 1\n",
    "    b_upper = data[:,-1,:] # t = 1\n",
    "    b_lower = data[:,0,:] # t = 0\n",
    "    res = data.reshape(-1,2)\n",
    "\n",
    "    return res, b_left, b_right, b_upper, b_lower\n",
    "\n",
    "\n",
    "def get_n_params(model):\n",
    "    pp=0\n",
    "    for p in list(model.parameters()):\n",
    "        nn_param=1\n",
    "        for s in list(p.size()):\n",
    "            nn_param = nn_param*s\n",
    "        pp += nn_param\n",
    "    return pp\n",
    "\n",
    "\n",
    "def make_time_sequence(src, num_step=5, step=1e-4):\n",
    "    dim = num_step\n",
    "    src = np.repeat(np.expand_dims(src, axis=1), dim, axis=1)  # (N, L, 2)\n",
    "    for i in range(num_step):\n",
    "        src[:,i,-1] += step*i\n",
    "    return src\n",
    "\n",
    "\n",
    "def get_clones(module, N):\n",
    "    return nn.ModuleList([copy.deepcopy(module) for i in range(N)])"
   ]
  },
  {
   "cell_type": "code",
   "execution_count": 7,
   "metadata": {},
   "outputs": [],
   "source": [
    "import numpy as np\n",
    "import torch\n",
    "import torch.nn as nn\n",
    "import matplotlib.pyplot as plt\n",
    "import random\n",
    "from torch.optim import LBFGS, Adam\n",
    "from tqdm import tqdm\n",
    "import copy\n",
    "\n",
    "class WaveAct(nn.Module):\n",
    "    def __init__(self):\n",
    "        super(WaveAct, self).__init__() \n",
    "        self.w1 = nn.Parameter(torch.ones(1), requires_grad=True)\n",
    "        self.w2 = nn.Parameter(torch.ones(1), requires_grad=True)\n",
    "\n",
    "    def forward(self, x):\n",
    "        return self.w1 * torch.sin(x) + self.w2 * torch.cos(x)\n",
    "\n",
    "class FeedForward(nn.Module):\n",
    "    def __init__(self, d_model, d_ff=256):\n",
    "        super(FeedForward, self).__init__() \n",
    "        self.linear = nn.Sequential(*[\n",
    "            nn.Linear(d_model, d_ff),\n",
    "            WaveAct(),\n",
    "            nn.Linear(d_ff, d_ff),\n",
    "            WaveAct(),\n",
    "            nn.Linear(d_ff, d_model)\n",
    "        ])\n",
    "\n",
    "    def forward(self, x):\n",
    "        return self.linear(x)\n",
    "\n",
    "class DecoderLayer(nn.Module):\n",
    "    def __init__(self, d_model, heads):\n",
    "        super(DecoderLayer, self).__init__()\n",
    "\n",
    "        self.attn = nn.MultiheadAttention(embed_dim=d_model, num_heads=heads, batch_first=True)\n",
    "        self.ff = FeedForward(d_model)\n",
    "        self.act1 = WaveAct()\n",
    "        self.act2 = WaveAct()\n",
    "\n",
    "    def forward(self, x, e_outputs): \n",
    "        x2 = self.act1(x)\n",
    "        x = x + self.attn(x2, e_outputs, e_outputs)[0]\n",
    "        x2 = self.act2(x)\n",
    "        x = x + self.ff(x2)\n",
    "        return x\n",
    "\n",
    "class Decoder(nn.Module):\n",
    "    def __init__(self, d_model, N, heads):\n",
    "        super(Decoder, self).__init__()\n",
    "        self.N = N\n",
    "        self.layers = get_clones(DecoderLayer(d_model, heads), N)\n",
    "        self.act = WaveAct()\n",
    "        \n",
    "    def forward(self, x, e_outputs):\n",
    "        for i in range(self.N):\n",
    "            x = self.layers[i](x, e_outputs)\n",
    "        return self.act(x)\n",
    "    \n",
    "    \n",
    "class FourierFeatures(nn.Module):\n",
    "    def __init__(self, in_features, mapping_size=32, init_scale=0.1):\n",
    "        super(FourierFeatures, self).__init__()\n",
    "        # Instead of one scalar, use a vector of scales (one per frequency band)\n",
    "        self.scale = nn.Parameter(torch.ones(mapping_size) * init_scale, requires_grad=True)\n",
    "        self.B = nn.Parameter(torch.randn(in_features, mapping_size), requires_grad=True)\n",
    "\n",
    "    def forward(self, x):\n",
    "        x_proj = 2 * torch.pi * x @ (self.B * self.scale)\n",
    "        return torch.cat([torch.sin(x_proj), torch.cos(x_proj)], dim=-1)\n",
    "\n",
    "\n",
    "class EnhancedEmbedding(nn.Module):\n",
    "    def __init__(self, in_features, d_model, mapping_size=32, init_scale=0.1):\n",
    "        super(EnhancedEmbedding, self).__init__()\n",
    "        self.fourier = FourierFeatures(in_features, mapping_size, init_scale)\n",
    "        # Adjust the linear layer to account for the increased dimensionality (2*mapping_size)\n",
    "        self.linear = nn.Linear(2 * mapping_size, d_model)\n",
    "        self.pos_emb = nn.Linear(in_features, d_model)\n",
    "\n",
    "    def forward(self, x):\n",
    "        fourier_features = self.fourier(x)\n",
    "        token_emb = self.linear(fourier_features)\n",
    "        pos_emb = self.pos_emb(x)\n",
    "        return token_emb + pos_emb\n",
    "\n",
    "\n",
    "class DecoderOnlyPINNsformer(nn.Module):\n",
    "    def __init__(self, d_out, d_model, d_hidden, N, heads):\n",
    "        super(DecoderOnlyPINNsformer, self).__init__()\n",
    "\n",
    "        self.linear_emb = nn.Linear(2, d_model)\n",
    "        # Simple positional embedding as another linear layer.\n",
    "        self.pos_emb = nn.Linear(2, d_model)\n",
    "\n",
    "        self.decoder = Decoder(d_model, N, heads)\n",
    "        self.linear_out = nn.Sequential(\n",
    "            nn.Linear(d_model, d_hidden),\n",
    "            WaveAct(),\n",
    "            nn.Linear(d_hidden, d_hidden),\n",
    "            WaveAct(),\n",
    "            nn.Linear(d_hidden, d_out)\n",
    "        )\n",
    "\n",
    "    def forward(self, x, t):\n",
    "        src = torch.cat((x, t), dim=-1)\n",
    "        token_emb = self.linear_emb(src)\n",
    "        pos_emb = self.pos_emb(src)\n",
    "        src = token_emb + pos_emb\n",
    "\n",
    "        d_output = self.decoder(src, src)  # decoder attends to input only\n",
    "        output = self.linear_out(d_output)\n",
    "        return output\n",
    "\n",
    "class DecoderOnlyPINNsformerFourier(nn.Module):\n",
    "    def __init__(self, d_out, d_model, d_hidden, N, heads, init_scale=0.1, mapping_size=32):\n",
    "        super(DecoderOnlyPINNsformerFourier, self).__init__()\n",
    "\n",
    "        # Use the EnhancedEmbedding module which combines Fourier features and a learnable positional embedding.\n",
    "        self.embedding = EnhancedEmbedding(in_features=2, d_model=d_model, mapping_size=mapping_size, init_scale=init_scale)\n",
    "        self.decoder = Decoder(d_model, N, heads)\n",
    "        self.linear_out = nn.Sequential(\n",
    "            nn.Linear(d_model, d_hidden),\n",
    "            WaveAct(),\n",
    "            nn.Linear(d_hidden, d_hidden),\n",
    "            WaveAct(),\n",
    "            nn.Linear(d_hidden, d_out)\n",
    "        )\n",
    "\n",
    "    def forward(self, x, t):\n",
    "        src = torch.cat((x, t), dim=-1)\n",
    "        src = self.embedding(src)\n",
    "        d_output = self.decoder(src, src)\n",
    "        output = self.linear_out(d_output)\n",
    "        return output"
   ]
  },
  {
   "cell_type": "code",
   "execution_count": 18,
   "metadata": {},
   "outputs": [
    {
     "name": "stdout",
     "output_type": "stream",
     "text": [
      "DecoderOnlyPINNsformerFourier(\n",
      "  (embedding): EnhancedEmbedding(\n",
      "    (fourier): FourierFeatures()\n",
      "    (linear): Linear(in_features=64, out_features=32, bias=True)\n",
      "    (pos_emb): Linear(in_features=2, out_features=32, bias=True)\n",
      "  )\n",
      "  (decoder): Decoder(\n",
      "    (layers): ModuleList(\n",
      "      (0): DecoderLayer(\n",
      "        (attn): MultiheadAttention(\n",
      "          (out_proj): NonDynamicallyQuantizableLinear(in_features=32, out_features=32, bias=True)\n",
      "        )\n",
      "        (ff): FeedForward(\n",
      "          (linear): Sequential(\n",
      "            (0): Linear(in_features=32, out_features=256, bias=True)\n",
      "            (1): WaveAct()\n",
      "            (2): Linear(in_features=256, out_features=256, bias=True)\n",
      "            (3): WaveAct()\n",
      "            (4): Linear(in_features=256, out_features=32, bias=True)\n",
      "          )\n",
      "        )\n",
      "        (act1): WaveAct()\n",
      "        (act2): WaveAct()\n",
      "      )\n",
      "    )\n",
      "    (act): WaveAct()\n",
      "  )\n",
      "  (linear_out): Sequential(\n",
      "    (0): Linear(in_features=32, out_features=512, bias=True)\n",
      "    (1): WaveAct()\n",
      "    (2): Linear(in_features=512, out_features=512, bias=True)\n",
      "    (3): WaveAct()\n",
      "    (4): Linear(in_features=512, out_features=1, bias=True)\n",
      "  )\n",
      ")\n",
      "369039\n"
     ]
    }
   ],
   "source": [
    "# Set seeds for reproducibility\n",
    "seed = 0\n",
    "np.random.seed(seed)\n",
    "random.seed(seed)\n",
    "torch.manual_seed(seed)\n",
    "torch.cuda.manual_seed(seed)\n",
    "\n",
    "device = torch.device('cuda' if torch.cuda.is_available() else 'cpu')\n",
    "\n",
    "step_size = 1e-4\n",
    "# Train PINNsformer\n",
    "res, b_left, b_right, b_upper, b_lower = get_data([0,2*np.pi], [0,1], 51, 51)\n",
    "res_test, _, _, _, _ = get_data([0,2*np.pi], [0,1], 101, 101)\n",
    "\n",
    "res = make_time_sequence(res, num_step=5, step=step_size)\n",
    "b_left = make_time_sequence(b_left, num_step=5, step=step_size)\n",
    "b_right = make_time_sequence(b_right, num_step=5, step=step_size)\n",
    "b_upper = make_time_sequence(b_upper, num_step=5, step=step_size)\n",
    "b_lower = make_time_sequence(b_lower, num_step=5, step=step_size)\n",
    "\n",
    "res = torch.tensor(res, dtype=torch.float32, requires_grad=True).to(device)\n",
    "b_left = torch.tensor(b_left, dtype=torch.float32, requires_grad=True).to(device)\n",
    "b_right = torch.tensor(b_right, dtype=torch.float32, requires_grad=True).to(device)\n",
    "b_upper = torch.tensor(b_upper, dtype=torch.float32, requires_grad=True).to(device)\n",
    "b_lower = torch.tensor(b_lower, dtype=torch.float32, requires_grad=True).to(device)\n",
    "\n",
    "x_res, t_res = res[:,:,0:1], res[:,:,1:2]\n",
    "x_left, t_left = b_left[:,:,0:1], b_left[:,:,1:2]\n",
    "x_right, t_right = b_right[:,:,0:1], b_right[:,:,1:2]\n",
    "x_upper, t_upper = b_upper[:,:,0:1], b_upper[:,:,1:2]\n",
    "x_lower, t_lower = b_lower[:,:,0:1], b_lower[:,:,1:2]\n",
    "\n",
    "def init_weights(m):\n",
    "    if isinstance(m, nn.Linear):\n",
    "        torch.nn.init.xavier_uniform_(m.weight)\n",
    "        m.bias.data.fill_(0.01)\n",
    "\n",
    "# Note: d_model (here 32) should be even for the Fourier features mapping.\n",
    "model = DecoderOnlyPINNsformerFourier(d_out=1, d_hidden=512, d_model=32, N=1, heads=2, init_scale = 0.05).to(device)\n",
    "\n",
    "model.apply(init_weights)\n",
    "optim = LBFGS(model.parameters(), line_search_fn='strong_wolfe')\n",
    "# optim = Adam(model.parameters(), lr = 1e-4)\n",
    "\n",
    "print(model)\n",
    "print(get_n_params(model))\n",
    "\n",
    "n_params = get_n_params(model)"
   ]
  },
  {
   "cell_type": "code",
   "execution_count": 9,
   "metadata": {},
   "outputs": [],
   "source": [
    "kernel_size = 300\n",
    "\n",
    "D1 = kernel_size\n",
    "D2 = len(x_left)\n",
    "D3 = len(x_lower)\n",
    "\n",
    "def compute_ntk(J1, J2):\n",
    "    Ker = torch.matmul(J1, torch.transpose(J2, 0, 1))\n",
    "    return Ker"
   ]
  },
  {
   "cell_type": "code",
   "execution_count": 10,
   "metadata": {},
   "outputs": [
    {
     "name": "stderr",
     "output_type": "stream",
     "text": [
      "100%|██████████| 500/500 [04:06<00:00,  2.03it/s, res=0.000002, ic=0.000000, bc=0.000000]\n"
     ]
    }
   ],
   "source": [
    "loss_track = []\n",
    "w1, w2, w3 = 1, 1, 1\n",
    "\n",
    "pi = torch.tensor(np.pi, dtype=torch.float32, requires_grad=False).to(device)\n",
    "\n",
    "progress_bar = tqdm(range(500))\n",
    "\n",
    "for i in progress_bar:\n",
    "    if i % 20 == 0:\n",
    "        J1 = torch.zeros((D1, n_params))\n",
    "        J2 = torch.zeros((D2, n_params))\n",
    "        J3 = torch.zeros((D3, n_params))\n",
    "\n",
    "        batch_ind = np.random.choice(len(x_res), kernel_size, replace=False)\n",
    "        x_train, t_train = x_res[batch_ind], t_res[batch_ind]\n",
    "\n",
    "        pred_res = model(x_train, t_train)\n",
    "        pred_left = model(x_left, t_left)\n",
    "        pred_upper = model(x_upper, t_upper)\n",
    "        pred_lower = model(x_lower, t_lower)\n",
    "\n",
    "        for j in range(len(x_train)):\n",
    "            model.zero_grad()\n",
    "            pred_res[j,0].backward(retain_graph=True)\n",
    "            J1[j, :] = torch.cat([\n",
    "                p.grad.view(-1) if p.grad is not None else torch.zeros_like(p).view(-1) \n",
    "                for p in model.parameters()\n",
    "                ])\n",
    "\n",
    "\n",
    "        for j in range(len(x_left)):\n",
    "            model.zero_grad()\n",
    "            pred_left[j,0].backward(retain_graph=True)\n",
    "            J2[j, :] = torch.cat([\n",
    "                p.grad.view(-1) if p.grad is not None else torch.zeros_like(p).view(-1) \n",
    "                for p in model.parameters()\n",
    "                ])\n",
    "\n",
    "        for j in range(len(x_lower)):\n",
    "            model.zero_grad()\n",
    "            pred_lower[j,0].backward(retain_graph=True)\n",
    "            pred_upper[j,0].backward(retain_graph=True)\n",
    "            J3[j, :] = torch.cat([\n",
    "                p.grad.view(-1) if p.grad is not None else torch.zeros_like(p).view(-1) \n",
    "                for p in model.parameters()\n",
    "                ])\n",
    "\n",
    "        K1 = torch.trace(compute_ntk(J1, J1))\n",
    "        K2 = torch.trace(compute_ntk(J2, J2))\n",
    "        K3 = torch.trace(compute_ntk(J3, J3))\n",
    "        \n",
    "        K = K1+K2+K3\n",
    "\n",
    "        w1 = K.item() / K1.item()\n",
    "        w2 = K.item() / K2.item()\n",
    "        w3 = K.item() / K3.item()\n",
    "\n",
    "    def closure():\n",
    "        pred_res = model(x_res, t_res)\n",
    "        pred_left = model(x_left, t_left)\n",
    "        pred_right = model(x_right, t_right)\n",
    "        pred_upper = model(x_upper, t_upper)\n",
    "        pred_lower = model(x_lower, t_lower)\n",
    "\n",
    "        u_x = torch.autograd.grad(pred_res, x_res, grad_outputs=torch.ones_like(pred_res), retain_graph=True, create_graph=True)[0]\n",
    "        u_t = torch.autograd.grad(pred_res, t_res, grad_outputs=torch.ones_like(pred_res), retain_graph=True, create_graph=True)[0]\n",
    "\n",
    "        loss_res = torch.mean((u_t - 5 * pred_res * (1-pred_res)) ** 2)\n",
    "        loss_bc = torch.mean((pred_upper - pred_lower) ** 2)\n",
    "        loss_ic = torch.mean((pred_left[:,0] - torch.exp(- (x_left[:,0] - torch.pi)**2 / (2*(torch.pi/4)**2))) ** 2)\n",
    "\n",
    "        loss_track.append([loss_res.item(), loss_bc.item(), loss_ic.item()])\n",
    "\n",
    "        loss = w1 * loss_res + w2* loss_bc + w2* loss_ic\n",
    "        optim.zero_grad()\n",
    "        loss.backward()\n",
    "        return loss\n",
    "\n",
    "    optim.step(closure)\n",
    "            \n",
    "    last_loss = loss_track[-1]\n",
    "    progress_bar.set_postfix({\n",
    "        \"res\": f\"{last_loss[0]:.6f}\",\n",
    "        \"ic\": f\"{last_loss[1]:.6f}\",\n",
    "        \"bc\": f\"{last_loss[2]:.6f}\",\n",
    "    })"
   ]
  },
  {
   "cell_type": "code",
   "execution_count": 11,
   "metadata": {},
   "outputs": [
    {
     "name": "stdout",
     "output_type": "stream",
     "text": [
      "Loss Res: 0.000002, Loss_BC: 0.000000, Loss_IC: 0.000000\n",
      "NTK weight: w_res: 1.713414 w_ic: 9.777848, w_bc: 3.183721\n",
      "Train Loss: 0.000003\n",
      "relative L1 error: 0.007040\n",
      "relative L2 error: 0.015255\n"
     ]
    },
    {
     "data": {
      "image/png": "[encoded data removed]",
      "text/plain": [
       "<Figure size 400x300 with 2 Axes>"
      ]
     },
     "metadata": {},
     "output_type": "display_data"
    }
   ],
   "source": [
    "# Visualize PINNsformer\n",
    "\n",
    "print('Loss Res: {:4f}, Loss_BC: {:4f}, Loss_IC: {:4f}'.format(loss_track[-1][0], loss_track[-1][1], loss_track[-1][2]))\n",
    "print('NTK weight: w_res: {:4f} w_ic: {:4f}, w_bc: {:4f}'.format(w1, w2, w3))\n",
    "print('Train Loss: {:4f}'.format(np.sum(loss_track[-1])))\n",
    "\n",
    "res_test = make_time_sequence(res_test, num_step=5, step=1e-4) \n",
    "res_test = torch.tensor(res_test, dtype=torch.float32, requires_grad=True).to(device)\n",
    "x_test, t_test = res_test[:,:,0:1], res_test[:,:,1:2]\n",
    "\n",
    "with torch.no_grad():\n",
    "    pred = model(x_test, t_test)[:,0:1]\n",
    "    pred = pred.cpu().detach().numpy()\n",
    "\n",
    "pred = pred.reshape(101,101)\n",
    "\n",
    "def h(x):\n",
    "    return np.exp( - (x-np.pi)**2 / (2 * (np.pi/4)**2))\n",
    "\n",
    "def u_ana(x,t):\n",
    "    return h(x) * np.exp(5*t) / ( h(x) * np.exp(5*t) + 1 - h(x))\n",
    "\n",
    "res_test, _, _, _, _ = get_data([0,2*np.pi], [0,1], 101, 101)\n",
    "u = u_ana(res_test[:,0], res_test[:,1]).reshape(101,101)\n",
    "\n",
    "rl1 = np.sum(np.abs(u-pred)) / np.sum(np.abs(u))\n",
    "rl2 = np.sqrt(np.sum((u-pred)**2) / np.sum(u**2))\n",
    "\n",
    "print('relative L1 error: {:4f}'.format(rl1))\n",
    "print('relative L2 error: {:4f}'.format(rl2))\n",
    "\n",
    "plt.figure(figsize=(4,3))\n",
    "plt.imshow(pred, extent=[0,np.pi*2,1,0], aspect='auto')\n",
    "plt.xlabel('x')\n",
    "plt.ylabel('t')\n",
    "plt.title('Predicted u(x,t)')\n",
    "plt.colorbar()\n",
    "plt.tight_layout()\n",
    "plt.show()"
   ]
  },
  {
   "cell_type": "code",
   "execution_count": 12,
   "metadata": {},
   "outputs": [
    {
     "data": {
      "image/png": "[encoded data removed]",
      "text/plain": [
       "<Figure size 400x300 with 2 Axes>"
      ]
     },
     "metadata": {},
     "output_type": "display_data"
    }
   ],
   "source": [
    "plt.figure(figsize=(4,3))\n",
    "plt.imshow(u, extent=[0,np.pi*2,1,0], aspect='auto')\n",
    "plt.xlabel('x')\n",
    "plt.ylabel('t')\n",
    "plt.title('Exact u(x,t)')\n",
    "plt.colorbar()\n",
    "plt.tight_layout()\n",
    "plt.show()"
   ]
  },
  {
   "cell_type": "code",
   "execution_count": 13,
   "metadata": {},
   "outputs": [
    {
     "data": {
      "image/png": "[encoded data removed]",
      "text/plain": [
       "<Figure size 400x300 with 2 Axes>"
      ]
     },
     "metadata": {},
     "output_type": "display_data"
    }
   ],
   "source": [
    "plt.figure(figsize=(4,3))\n",
    "plt.imshow(np.abs(pred - u), extent=[0,np.pi*2,1,0], aspect='auto')\n",
    "plt.xlabel('x')\n",
    "plt.ylabel('t')\n",
    "plt.title('Absolute Error')\n",
    "plt.colorbar()\n",
    "plt.tight_layout()\n",
    "plt.show()"
   ]
  },
  {
   "cell_type": "code",
   "execution_count": 14,
   "metadata": {},
   "outputs": [],
   "source": [
    "# save model state dict\n",
    "model_state_dict = model.state_dict()\n",
    "torch.save(model_state_dict, 'decoder-fourier-ntk.pth')"
   ]
  },
  {
   "cell_type": "code",
   "execution_count": 27,
   "metadata": {},
   "outputs": [],
   "source": [
    "def train_and_evaluate(init_scale, n_iter=500, seed=0):\n",
    "    model = DecoderOnlyPINNsformerFourier(d_out=1, d_hidden=512, d_model=32, N=1, heads=2, init_scale = init_scale).to(device)\n",
    "    \n",
    "    model.apply(init_weights)\n",
    "    optim = LBFGS(model.parameters(), line_search_fn='strong_wolfe')\n",
    "\n",
    "   \n",
    "\n",
    "    kernel_size = 300\n",
    "\n",
    "    D1 = kernel_size\n",
    "    D2 = len(x_left)\n",
    "    D3 = len(x_lower)\n",
    "\n",
    "    def compute_ntk(J1, J2):\n",
    "        Ker = torch.matmul(J1, torch.transpose(J2, 0, 1))\n",
    "        return Ker\n",
    "    loss_track = []\n",
    "    w1, w2, w3 = 1, 1, 1\n",
    "\n",
    "    pi = torch.tensor(np.pi, dtype=torch.float32, requires_grad=False).to(device)\n",
    "\n",
    "    progress_bar = tqdm(range(500))\n",
    "\n",
    "    for i in progress_bar:\n",
    "        if i % 20 == 0:\n",
    "            J1 = torch.zeros((D1, n_params))\n",
    "            J2 = torch.zeros((D2, n_params))\n",
    "            J3 = torch.zeros((D3, n_params))\n",
    "\n",
    "            batch_ind = np.random.choice(len(x_res), kernel_size, replace=False)\n",
    "            x_train, t_train = x_res[batch_ind], t_res[batch_ind]\n",
    "\n",
    "            pred_res = model(x_train, t_train)\n",
    "            pred_left = model(x_left, t_left)\n",
    "            pred_upper = model(x_upper, t_upper)\n",
    "            pred_lower = model(x_lower, t_lower)\n",
    "\n",
    "            for j in range(len(x_train)):\n",
    "                model.zero_grad()\n",
    "                pred_res[j,0].backward(retain_graph=True)\n",
    "                J1[j, :] = torch.cat([\n",
    "                    p.grad.view(-1) if p.grad is not None else torch.zeros_like(p).view(-1) \n",
    "                    for p in model.parameters()\n",
    "                    ])\n",
    "\n",
    "\n",
    "            for j in range(len(x_left)):\n",
    "                model.zero_grad()\n",
    "                pred_left[j,0].backward(retain_graph=True)\n",
    "                J2[j, :] = torch.cat([\n",
    "                    p.grad.view(-1) if p.grad is not None else torch.zeros_like(p).view(-1) \n",
    "                    for p in model.parameters()\n",
    "                    ])\n",
    "\n",
    "            for j in range(len(x_lower)):\n",
    "                model.zero_grad()\n",
    "                pred_lower[j,0].backward(retain_graph=True)\n",
    "                pred_upper[j,0].backward(retain_graph=True)\n",
    "                J3[j, :] = torch.cat([\n",
    "                    p.grad.view(-1) if p.grad is not None else torch.zeros_like(p).view(-1) \n",
    "                    for p in model.parameters()\n",
    "                    ])\n",
    "\n",
    "            K1 = torch.trace(compute_ntk(J1, J1))\n",
    "            K2 = torch.trace(compute_ntk(J2, J2))\n",
    "            K3 = torch.trace(compute_ntk(J3, J3))\n",
    "            \n",
    "            K = K1+K2+K3\n",
    "\n",
    "            w1 = K.item() / K1.item()\n",
    "            w2 = K.item() / K2.item()\n",
    "            w3 = K.item() / K3.item()\n",
    "\n",
    "        def closure():\n",
    "            pred_res = model(x_res, t_res)\n",
    "            pred_left = model(x_left, t_left)\n",
    "            pred_right = model(x_right, t_right)\n",
    "            pred_upper = model(x_upper, t_upper)\n",
    "            pred_lower = model(x_lower, t_lower)\n",
    "\n",
    "            u_x = torch.autograd.grad(pred_res, x_res, grad_outputs=torch.ones_like(pred_res), retain_graph=True, create_graph=True)[0]\n",
    "            u_t = torch.autograd.grad(pred_res, t_res, grad_outputs=torch.ones_like(pred_res), retain_graph=True, create_graph=True)[0]\n",
    "\n",
    "            loss_res = torch.mean((u_t - 5 * pred_res * (1-pred_res)) ** 2)\n",
    "            loss_bc = torch.mean((pred_upper - pred_lower) ** 2)\n",
    "            loss_ic = torch.mean((pred_left[:,0] - torch.exp(- (x_left[:,0] - torch.pi)**2 / (2*(torch.pi/4)**2))) ** 2)\n",
    "\n",
    "            loss_track.append([loss_res.item(), loss_bc.item(), loss_ic.item()])\n",
    "\n",
    "            loss = w1 * loss_res + w2* loss_bc + w2* loss_ic\n",
    "            optim.zero_grad()\n",
    "            loss.backward()\n",
    "            return loss\n",
    "\n",
    "        optim.step(closure)\n",
    "                \n",
    "        last_loss = loss_track[-1]\n",
    "        progress_bar.set_postfix({\n",
    "            \"res\": f\"{last_loss[0]:.6f}\",\n",
    "            \"ic\": f\"{last_loss[1]:.6f}\",\n",
    "            \"bc\": f\"{last_loss[2]:.6f}\",\n",
    "        })\n",
    "    # Visualize PINNsformer\n",
    "\n",
    "    print('Loss Res: {:4f}, Loss_BC: {:4f}, Loss_IC: {:4f}'.format(loss_track[-1][0], loss_track[-1][1], loss_track[-1][2]))\n",
    "    print('NTK weight: w_res: {:4f} w_ic: {:4f}, w_bc: {:4f}'.format(w1, w2, w3))\n",
    "    print('Train Loss: {:4f}'.format(np.sum(loss_track[-1])))\n",
    "    \n",
    "    \n",
    "    def h(x):\n",
    "        return np.exp( - (x-np.pi)**2 / (2 * (np.pi/4)**2))\n",
    "\n",
    "    def u_ana(x,t):\n",
    "        return h(x) * np.exp(5*t) / ( h(x) * np.exp(5*t) + 1 - h(x))\n",
    "    \n",
    "    res_test, _, _, _, _ = get_data([0,2*np.pi], [0,1], 101, 101)\n",
    "    u = u_ana(res_test[:,0], res_test[:,1]).reshape(101,101)\n",
    "\n",
    "    res_test = make_time_sequence(res_test, num_step=5, step=1e-4) \n",
    "    res_test = torch.tensor(res_test, dtype=torch.float32, requires_grad=True).to(device)\n",
    "    x_test, t_test = res_test[:,:,0:1], res_test[:,:,1:2]\n",
    "\n",
    "    with torch.no_grad():\n",
    "        pred = model(x_test, t_test)[:,0:1]\n",
    "        pred = pred.cpu().detach().numpy()\n",
    "\n",
    "    pred = pred.reshape(101,101)\n",
    "\n",
    "\n",
    "\n",
    "\n",
    "\n",
    "    rl1 = np.sum(np.abs(u-pred)) / np.sum(np.abs(u))\n",
    "    rl2 = np.sqrt(np.sum((u-pred)**2) / np.sum(u**2))\n",
    "    print('relative L1 error: {:4f}'.format(rl1))\n",
    "    print('relative L2 error: {:4f}'.format(rl2))\n",
    "    \n",
    "    return rl1, rl2"
   ]
  },
  {
   "cell_type": "code",
   "execution_count": 29,
   "metadata": {},
   "outputs": [],
   "source": [
    "def sweep_init_scales(init_scales, n_iter=300, seed=0):\n",
    "    results = []\n",
    "    for scale in init_scales:\n",
    "        rl1, rl2 = train_and_evaluate(scale, n_iter=n_iter, seed=seed)\n",
    "        results.append({'init_scale': scale, 'rel_L1': rl1, 'rel_L2': rl2})\n",
    "    return results\n"
   ]
  },
  {
   "cell_type": "code",
   "execution_count": 30,
   "metadata": {},
   "outputs": [
    {
     "name": "stderr",
     "output_type": "stream",
     "text": [
      "100%|██████████| 500/500 [05:32<00:00,  1.50it/s, res=0.000005, ic=0.000000, bc=0.000000]\n"
     ]
    },
    {
     "name": "stdout",
     "output_type": "stream",
     "text": [
      "Loss Res: 0.000005, Loss_BC: 0.000000, Loss_IC: 0.000000\n",
      "NTK weight: w_res: 1.695589 w_ic: 9.552702, w_bc: 3.272765\n",
      "Train Loss: 0.000005\n",
      "relative L1 error: 0.006098\n",
      "relative L2 error: 0.012464\n"
     ]
    },
    {
     "name": "stderr",
     "output_type": "stream",
     "text": [
      "100%|██████████| 500/500 [04:53<00:00,  1.70it/s, res=0.000005, ic=0.000000, bc=0.000000]\n"
     ]
    },
    {
     "name": "stdout",
     "output_type": "stream",
     "text": [
      "Loss Res: 0.000005, Loss_BC: 0.000000, Loss_IC: 0.000000\n",
      "NTK weight: w_res: 1.614316 w_ic: 10.498475, w_bc: 3.505196\n",
      "Train Loss: 0.000006\n",
      "relative L1 error: 0.013447\n",
      "relative L2 error: 0.027434\n"
     ]
    },
    {
     "name": "stderr",
     "output_type": "stream",
     "text": [
      "100%|██████████| 500/500 [04:50<00:00,  1.72it/s, res=0.000003, ic=0.000000, bc=0.000000]\n"
     ]
    },
    {
     "name": "stdout",
     "output_type": "stream",
     "text": [
      "Loss Res: 0.000003, Loss_BC: 0.000000, Loss_IC: 0.000000\n",
      "NTK weight: w_res: 1.626775 w_ic: 9.586621, w_bc: 3.559037\n",
      "Train Loss: 0.000003\n",
      "relative L1 error: 0.009549\n",
      "relative L2 error: 0.019425\n"
     ]
    },
    {
     "name": "stderr",
     "output_type": "stream",
     "text": [
      "100%|██████████| 500/500 [04:54<00:00,  1.70it/s, res=0.000002, ic=0.000000, bc=0.000000]\n"
     ]
    },
    {
     "name": "stdout",
     "output_type": "stream",
     "text": [
      "Loss Res: 0.000002, Loss_BC: 0.000000, Loss_IC: 0.000000\n",
      "NTK weight: w_res: 1.676327 w_ic: 9.847132, w_bc: 3.312298\n",
      "Train Loss: 0.000003\n",
      "relative L1 error: 0.006914\n",
      "relative L2 error: 0.016016\n"
     ]
    },
    {
     "name": "stderr",
     "output_type": "stream",
     "text": [
      "100%|██████████| 500/500 [04:34<00:00,  1.82it/s, res=0.000002, ic=0.000000, bc=0.000000]\n"
     ]
    },
    {
     "name": "stdout",
     "output_type": "stream",
     "text": [
      "Loss Res: 0.000002, Loss_BC: 0.000000, Loss_IC: 0.000000\n",
      "NTK weight: w_res: 1.703949 w_ic: 10.342861, w_bc: 3.160127\n",
      "Train Loss: 0.000002\n",
      "relative L1 error: 0.005611\n",
      "relative L2 error: 0.012415\n"
     ]
    },
    {
     "name": "stderr",
     "output_type": "stream",
     "text": [
      "100%|██████████| 500/500 [03:14<00:00,  2.57it/s, res=0.000005, ic=0.000000, bc=0.000000]\n"
     ]
    },
    {
     "name": "stdout",
     "output_type": "stream",
     "text": [
      "Loss Res: 0.000005, Loss_BC: 0.000000, Loss_IC: 0.000000\n",
      "NTK weight: w_res: 1.671373 w_ic: 10.515285, w_bc: 3.261687\n",
      "Train Loss: 0.000005\n",
      "relative L1 error: 0.011184\n",
      "relative L2 error: 0.026054\n"
     ]
    },
    {
     "name": "stderr",
     "output_type": "stream",
     "text": [
      "100%|██████████| 500/500 [03:22<00:00,  2.47it/s, res=0.000003, ic=0.000000, bc=0.000000]\n"
     ]
    },
    {
     "name": "stdout",
     "output_type": "stream",
     "text": [
      "Loss Res: 0.000003, Loss_BC: 0.000000, Loss_IC: 0.000000\n",
      "NTK weight: w_res: 1.791126 w_ic: 10.287246, w_bc: 2.902890\n",
      "Train Loss: 0.000003\n",
      "relative L1 error: 0.001877\n",
      "relative L2 error: 0.003336\n"
     ]
    },
    {
     "name": "stderr",
     "output_type": "stream",
     "text": [
      "100%|██████████| 500/500 [03:55<00:00,  2.12it/s, res=0.000001, ic=0.000000, bc=0.000000]\n"
     ]
    },
    {
     "name": "stdout",
     "output_type": "stream",
     "text": [
      "Loss Res: 0.000001, Loss_BC: 0.000000, Loss_IC: 0.000000\n",
      "NTK weight: w_res: 1.770057 w_ic: 10.417067, w_bc: 2.949417\n",
      "Train Loss: 0.000001\n",
      "relative L1 error: 0.003243\n",
      "relative L2 error: 0.008745\n"
     ]
    },
    {
     "name": "stderr",
     "output_type": "stream",
     "text": [
      "100%|██████████| 500/500 [03:32<00:00,  2.36it/s, res=0.000001, ic=0.000000, bc=0.000000]\n"
     ]
    },
    {
     "name": "stdout",
     "output_type": "stream",
     "text": [
      "Loss Res: 0.000001, Loss_BC: 0.000000, Loss_IC: 0.000000\n",
      "NTK weight: w_res: 1.792655 w_ic: 10.372026, w_bc: 2.892221\n",
      "Train Loss: 0.000001\n",
      "relative L1 error: 0.004806\n",
      "relative L2 error: 0.011802\n"
     ]
    },
    {
     "name": "stderr",
     "output_type": "stream",
     "text": [
      "100%|██████████| 500/500 [03:44<00:00,  2.23it/s, res=0.000001, ic=0.000000, bc=0.000000]\n"
     ]
    },
    {
     "name": "stdout",
     "output_type": "stream",
     "text": [
      "Loss Res: 0.000001, Loss_BC: 0.000000, Loss_IC: 0.000000\n",
      "NTK weight: w_res: 1.816174 w_ic: 10.766259, w_bc: 2.804976\n",
      "Train Loss: 0.000001\n",
      "relative L1 error: 0.002850\n",
      "relative L2 error: 0.008278\n",
      "[{'init_scale': np.float64(0.01), 'rel_L1': np.float64(0.006097720805373176), 'rel_L2': np.float64(0.012464344705894062)}, {'init_scale': np.float64(0.01544452104946379), 'rel_L1': np.float64(0.013447024220714707), 'rel_L2': np.float64(0.02743426216824744)}, {'init_scale': np.float64(0.023853323044733008), 'rel_L1': np.float64(0.009549212610750863), 'rel_L2': np.float64(0.019425417221379068)}, {'init_scale': np.float64(0.03684031498640387), 'rel_L1': np.float64(0.0069135724804109035), 'rel_L2': np.float64(0.01601612058685413)}, {'init_scale': np.float64(0.05689810202763908), 'rel_L1': np.float64(0.005610695361593494), 'rel_L2': np.float64(0.01241540265723119)}, {'init_scale': np.float64(0.08787639344404101), 'rel_L1': np.float64(0.011183509102756003), 'rel_L2': np.float64(0.026054226237409744)}, {'init_scale': np.float64(0.13572088082974532), 'rel_L1': np.float64(0.0018772998309541811), 'rel_L2': np.float64(0.0033355828136292357)}, {'init_scale': np.float64(0.20961440008267682), 'rel_L1': np.float64(0.003243051605305117), 'rel_L2': np.float64(0.00874500336932856)}, {'init_scale': np.float64(0.32373940143476265), 'rel_L1': np.float64(0.004805582299052864), 'rel_L2': np.float64(0.011802034531993516)}, {'init_scale': np.float64(0.5), 'rel_L1': np.float64(0.002850380759201278), 'rel_L2': np.float64(0.008277745506965547)}]\n"
     ]
    }
   ],
   "source": [
    "init_scales = np.logspace(np.log10(0.01), np.log10(0.5), 10)\n",
    "results = sweep_init_scales(init_scales)\n",
    "print(results)\n"
   ]
  }
 ],
 "metadata": {
  "kernelspec": {
   "display_name": "pinns",
   "language": "python",
   "name": "python3"
  },
  "language_info": {
   "codemirror_mode": {
    "name": "ipython",
    "version": 3
   },
   "file_extension": ".py",
   "mimetype": "text/x-python",
   "name": "python",
   "nbconvert_exporter": "python",
   "pygments_lexer": "ipython3",
   "version": "3.12.3"
  }
 },
 "nbformat": 4,
 "nbformat_minor": 2
}
